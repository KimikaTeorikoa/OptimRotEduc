{
 "cells": [
  {
   "cell_type": "markdown",
   "id": "6f253b88-f2c0-48f2-9c52-ded37bf6494e",
   "metadata": {},
   "source": [
    "# Natural Orbital Functionals: Method Comparison at 0.02 step size"
   ]
  },
  {
   "cell_type": "markdown",
   "id": "5000fef5",
   "metadata": {},
   "source": [
    "Import libreries"
   ]
  },
  {
   "cell_type": "code",
   "execution_count": 2,
   "id": "f9c37e00-d463-42ae-a52a-dcc879e8c4cb",
   "metadata": {},
   "outputs": [],
   "source": [
    "from scipy.linalg import eigh\n",
    "import pynof\n",
    "import numpy as np\n",
    "import csv\n",
    "from energy import *"
   ]
  },
  {
   "cell_type": "markdown",
   "id": "9eb4e68a-48f4-41b3-8315-6586537fa0cf",
   "metadata": {},
   "source": [
    "Create molecule and choose basis set"
   ]
  },
  {
   "cell_type": "code",
   "execution_count": null,
   "id": "23e89014-e588-4790-995a-99a923134d2c",
   "metadata": {},
   "outputs": [
    {
     "name": "stdout",
     "output_type": "stream",
     "text": [
      "   => Loading Basis Set <=\n",
      "\n",
      "    Name: CC-PVDZ\n",
      "    Role: ORBITAL\n",
      "    Keyword: BASIS\n",
      "    atoms 1 entry C          line   138 file /home/jfhlewyee/anaconda3/envs/educ/share/psi4/basis/cc-pvdz.gbs \n",
      "    atoms 2 entry O          line   198 file /home/jfhlewyee/anaconda3/envs/educ/share/psi4/basis/cc-pvdz.gbs \n",
      "\n"
     ]
    }
   ],
   "source": [
    "mol = pynof.molecule(\"\"\"\n",
    "0 1\n",
    "  C      0.0       0.0         0.0\n",
    "  O      0.0       0.0         1.12     \n",
    "\"\"\")\n",
    "\n",
    "p = pynof.param(mol,\"cc-pvdz\")\n",
    "\n",
    "# Choose Molecule:\n",
    "# CO HF= -112.74964590\n",
    "#           Nit(a=0.1)  a=0.01  0.02\n",
    "#SD          X           13      6\n",
    "#ADADELTA    X            X\n",
    "#ADAGRAD    19          189     105\n",
    "#RMSPROP    28           26\n",
    "#ADAM        3            6      6"
   ]
  },
  {
   "cell_type": "markdown",
   "id": "d129c24b-d11a-4380-9984-219a22c1e2e0",
   "metadata": {},
   "source": [
    "Run NOF calculations with several optimization algorithms at 0.02 step size."
   ]
  },
  {
   "cell_type": "code",
   "execution_count": 4,
   "id": "77a6a008-09bc-4e20-9641-b7a1fb5b873c",
   "metadata": {},
   "outputs": [
    {
     "ename": "AttributeError",
     "evalue": "module 'pynof' has no attribute 'calc_nof_orbrot'",
     "output_type": "error",
     "traceback": [
      "\u001b[31m---------------------------------------------------------------------------\u001b[39m",
      "\u001b[31mAttributeError\u001b[39m                            Traceback (most recent call last)",
      "\u001b[36mCell\u001b[39m\u001b[36m \u001b[39m\u001b[32mIn[4]\u001b[39m\u001b[32m, line 25\u001b[39m\n\u001b[32m     23\u001b[39m \u001b[38;5;28;01mfor\u001b[39;00m alg \u001b[38;5;129;01min\u001b[39;00m algorithms:\n\u001b[32m     24\u001b[39m     p.orb_method=alg\n\u001b[32m---> \u001b[39m\u001b[32m25\u001b[39m     _, energy_data = \u001b[43mpynof\u001b[49m\u001b[43m.\u001b[49m\u001b[43mcalc_nof_orbrot\u001b[49m(mol, p)\n\u001b[32m     26\u001b[39m     \u001b[38;5;28;01mfor\u001b[39;00m i_ext, energy \u001b[38;5;129;01min\u001b[39;00m energy_data:\n\u001b[32m     27\u001b[39m         writer.writerow([alg, i_ext, energy])\n",
      "\u001b[31mAttributeError\u001b[39m: module 'pynof' has no attribute 'calc_nof_orbrot'"
     ]
    }
   ],
   "source": [
    "# Here we select the NOF functional. 8 should be fine\n",
    "p.ipnof = 8\n",
    "p.maxit = 130\n",
    "\n",
    "p.occ_method = \"Softmax\"\n",
    "# We turn on Resolution of Identity approximations\n",
    "#p.RI = True\n",
    "#p.orb_method=\"SD\"\n",
    "#p.orb_method=\"ADAGRAD\"\n",
    "#p.orb_method=\"RMSPROP\"\n",
    "\n",
    "#alpha_values = [0.001, 0.002, 0.004, 0.006, 0.008, 0.02, 0.04, 0.08, 0.16]\n",
    "algorithms = [ 'SD', 'CG', 'RMSPROP', 'ADAGRAD', 'ADAM' ]\n",
    "all_energy_data = {}  # Dictionary to store results for each alpha\n",
    "p.alpha = 0.02\n",
    "# File name to store the data\n",
    "filename = \"CO2_02.csv\"\n",
    "\n",
    "with open(filename, mode='w', newline='') as file:\n",
    "    writer = csv.writer(file)\n",
    "    writer.writerow([\"alg\", \"iteration\", \"energy\"])  # Header\n",
    "\n",
    "    for alg in algorithms:\n",
    "        p.orb_method=alg\n",
    "        _, energy_data = calc_nof_orbrot(mol, p)\n",
    "        for i_ext, energy in energy_data:\n",
    "            writer.writerow([alg, i_ext, energy])"
   ]
  },
  {
   "cell_type": "code",
   "execution_count": null,
   "id": "7d6f6f4a-adb3-4654-8f77-8509ce49f69b",
   "metadata": {},
   "outputs": [],
   "source": []
  }
 ],
 "metadata": {
  "kernelspec": {
   "display_name": "Python 3 (ipykernel)",
   "language": "python",
   "name": "python3"
  },
  "language_info": {
   "codemirror_mode": {
    "name": "ipython",
    "version": 3
   },
   "file_extension": ".py",
   "mimetype": "text/x-python",
   "name": "python",
   "nbconvert_exporter": "python",
   "pygments_lexer": "ipython3",
   "version": "3.12.11"
  }
 },
 "nbformat": 4,
 "nbformat_minor": 5
}

{
 "cells": [
  {
   "cell_type": "markdown",
   "id": "a13a22fb-7dad-49b4-9c1a-154944f925df",
   "metadata": {},
   "source": [
    "# Natural Orbital Functionals: Method Comparison at 0.002 step size"
   ]
  },
  {
   "cell_type": "markdown",
   "id": "6f4f01c4",
   "metadata": {},
   "source": [
    "Import libreries"
   ]
  },
  {
   "cell_type": "code",
   "execution_count": null,
   "id": "f9c37e00-d463-42ae-a52a-dcc879e8c4cb",
   "metadata": {},
   "outputs": [],
   "source": [
    "from scipy.linalg import eigh\n",
    "import pynof\n",
    "import numpy as np\n",
    "import csv\n",
    "import sys\n",
    "# Define energy.py path, in our case is in myCode dir, two directories above\n",
    "sys.path.insert(1, '../../myCode/')\n",
    "# read files with optimization functions\n",
    "from energy import *"
   ]
  },
  {
   "cell_type": "markdown",
   "id": "363112dc",
   "metadata": {},
   "source": [
    "Create molecule and choose basis set"
   ]
  },
  {
   "cell_type": "code",
   "execution_count": null,
   "id": "23e89014-e588-4790-995a-99a923134d2c",
   "metadata": {},
   "outputs": [],
   "source": [
    "# Molecules definition\n",
    "\n",
    "co = pynof.molecule(\"\"\"\n",
    "0 1\n",
    "  C      0.0       0.0         0.0\n",
    "  O      0.0       0.0         1.12     \n",
    "\"\"\")\n",
    "\n",
    "co2 = pynof.molecule(\"\"\"\n",
    "0 1\n",
    "C    0.0000    0.0000    0.0000   \n",
    "O    1.1000    0.0000    0.0000   \n",
    "O    -1.1000   -0.0000    0.0000 \n",
    "\"\"\")\n",
    "\n",
    "h2o = pynof.molecule(\"\"\"\n",
    "0 1\n",
    "  O  0.0000   0.000   0.116\n",
    "  H  0.0000   0.749  -0.453\n",
    "  H  0.0000  -0.749  -0.453\n",
    "\"\"\")\n",
    "\n",
    "# Dictionary to facilitate molecule selection with \n",
    "# output file name\n",
    "\n",
    "molecules = {\n",
    "    \"co\": co,\n",
    "    \"co2\": co2,\n",
    "    \"h2o\": h2o,\n",
    "}\n",
    "\n",
    "# Select molecule \n",
    "molecule = \"co\" # or \"co2\"\n",
    "mol = molecules[molecule]\n",
    "\n",
    "# Select basis set\n",
    "basis = \"cc-pvdz\"\n",
    "\n",
    "p = pynof.param(mol,basis)"
   ]
  },
  {
   "cell_type": "markdown",
   "id": "a0809be2-9321-4093-94a5-b2c362685c1b",
   "metadata": {},
   "source": [
    "Run NOF calculations with several optimization algorithms at 0.002 step size."
   ]
  },
  {
   "cell_type": "code",
   "execution_count": null,
   "id": "77a6a008-09bc-4e20-9641-b7a1fb5b873c",
   "metadata": {},
   "outputs": [],
   "source": [
    "# Here we select the NOF functional. 8 should be fine\n",
    "p.ipnof = 8\n",
    "p.maxit = 130\n",
    "\n",
    "#alpha_values = [0.001, 0.002, 0.004, 0.006, 0.008, 0.02, 0.04, 0.08, 0.16]\n",
    "algorithms = [ 'SD', 'CG', 'RMSPROP', 'ADAGRAD', 'ADAM' ]\n",
    "all_energy_data = {}  # Dictionary to store results for each alpha\n",
    "p.alpha = 0.002\n",
    "# File name to store the data\n",
    "filename = f\"{molecule}_{p.alpha}.csv\"\n",
    "\n",
    "with open(filename, mode='w', newline='') as file:\n",
    "    writer = csv.writer(file)\n",
    "    writer.writerow([\"alg\", \"iteration\", \"energy\"])  # Header\n",
    "\n",
    "    for alg in algorithms:\n",
    "        p.orb_method=alg\n",
    "        _, energy_data = calc_nof_orbrot(mol, p)\n",
    "        for i_ext, energy in energy_data:\n",
    "            writer.writerow([alg, i_ext, energy])\n"
   ]
  },
  {
   "cell_type": "code",
   "execution_count": null,
   "id": "1b5a84b2-0bce-4e01-9107-b6f4b1328de1",
   "metadata": {},
   "outputs": [],
   "source": []
  },
  {
   "cell_type": "code",
   "execution_count": null,
   "id": "1a21de64-8e2b-42ad-b6fa-65e833032092",
   "metadata": {},
   "outputs": [],
   "source": []
  }
 ],
 "metadata": {
  "kernelspec": {
   "display_name": "Python 3 (ipykernel)",
   "language": "python",
   "name": "python3"
  },
  "language_info": {
   "codemirror_mode": {
    "name": "ipython",
    "version": 3
   },
   "file_extension": ".py",
   "mimetype": "text/x-python",
   "name": "python",
   "nbconvert_exporter": "python",
   "pygments_lexer": "ipython3",
   "version": "3.12.11"
  }
 },
 "nbformat": 4,
 "nbformat_minor": 5
}

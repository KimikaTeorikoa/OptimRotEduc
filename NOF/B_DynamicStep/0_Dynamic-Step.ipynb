{
 "cells": [
  {
   "cell_type": "markdown",
   "id": "2545490b-636e-4f7f-a59a-65aaf19a7edf",
   "metadata": {},
   "source": [
    "# Natural Orbital Functional Theory: Dynamic (Scheduled) step size"
   ]
  },
  {
   "cell_type": "markdown",
   "id": "5032c035",
   "metadata": {},
   "source": [
    "Import libreries"
   ]
  },
  {
   "cell_type": "code",
   "execution_count": null,
   "id": "f9c37e00-d463-42ae-a52a-dcc879e8c4cb",
   "metadata": {},
   "outputs": [],
   "source": [
    "import pynof\n",
    "from scipy.linalg import eigh\n",
    "import numpy as np\n",
    "import csv\n",
    "import sys\n",
    "# Define energy.py path, in our case is in myCode dir, two directories above\n",
    "sys.path.insert(1, '../../myCode/')\n",
    "# read files with optimization functions\n",
    "from energy import *"
   ]
  },
  {
   "cell_type": "markdown",
   "id": "5da92753-9c0e-44a8-9292-834474a5fbea",
   "metadata": {},
   "source": [
    "Create molecule and choose basis set"
   ]
  },
  {
   "cell_type": "code",
   "execution_count": null,
   "id": "23e89014-e588-4790-995a-99a923134d2c",
   "metadata": {},
   "outputs": [],
   "source": [
    "#Molecules Definition\n",
    "co2 = pynof.molecule(\"\"\"\n",
    "0 1\n",
    "C    0.0000    0.0000    0.0000   \n",
    "O    1.1000    0.0000    0.0000   \n",
    "O    -1.1000   -0.0000    0.0000 \n",
    "\"\"\")\n",
    "\n",
    "bf3 = pynof.molecule(\"\"\"\n",
    "0 1\n",
    " F     4.007177     0.908823     0.000000\n",
    " F     1.724922     0.908844     0.000000\n",
    " F     2.866001    -1.067658    -0.000000\n",
    " B     2.866001     0.249991    -0.000000\n",
    "\"\"\")\n",
    "\n",
    "c4h4 = pynof.molecule(\"\"\"\n",
    " 0 1\n",
    "C          0.71430       -0.67320        0.00020\n",
    "C          0.71480        0.67270       -0.00020\n",
    "C         -0.71490       -0.67260       -0.00020\n",
    "C         -0.71420        0.67320        0.00020\n",
    "H          1.46990       -1.44980        0.00030\n",
    "H          1.47100        1.44850       -0.00030\n",
    "H         -1.47110       -1.44850       -0.00030\n",
    "H         -1.46980        1.44960        0.00020\n",
    "\"\"\")\n",
    "\n",
    "# Dictionary to facilitate molecule selection with \n",
    "# output file name\n",
    "\n",
    "molecules = {\n",
    "    \"bf3\": bf3,\n",
    "    \"co2\": co2,\n",
    "    \"c4h4\": c4h4,\n",
    "}\n",
    "\n",
    "# Select molecule \n",
    "molecule = \"bf3\" # or \"co2\" or \"bf3\"\n",
    "mol = molecules[molecule]\n",
    "\n",
    "# Select basis set\n",
    "basis = \"cc-pvdz\"\n",
    "p = pynof.param(mol,basis)\n"
   ]
  },
  {
   "cell_type": "markdown",
   "id": "712c2ffe-9a08-431d-9977-c2ebdff3d9ce",
   "metadata": {},
   "source": [
    "Run calculations with a dynamyc alpha value"
   ]
  },
  {
   "cell_type": "code",
   "execution_count": null,
   "id": "77a6a008-09bc-4e20-9641-b7a1fb5b873c",
   "metadata": {},
   "outputs": [],
   "source": [
    "# Here we select the NOF functional. 8 should be fine\n",
    "p.ipnof = 8\n",
    "p.maxit = 130\n",
    "\n",
    "p.orb_method=\"ADAM\"\n",
    "\n",
    "alpha_values = [0.001, 0.002, 0.005, 0.02, 0.04, 0.08, 0.16]\n",
    "all_energy_data = {}  # Dictionary to store results for each alpha\n",
    "\n",
    "# File name to store the data\n",
    "filename = f\"{molecule}_{\"NOF\"}.csv\"\n",
    "\n",
    "with open(filename, mode='w', newline='') as file:\n",
    "    writer = csv.writer(file)\n",
    "    writer.writerow([\"alpha\", \"iteration\", \"energy\"])  # Header\n",
    "\n",
    "    for alpha in alpha_values:\n",
    "        p.alpha = alpha\n",
    "        # Select molecule\n",
    "        _, energy_data = calc_nof_orbrot(mol, p)\n",
    "        for i_ext, energy in energy_data:\n",
    "            writer.writerow([alpha, i_ext, energy])\n",
    "\n",
    "    # ADAM algorithm including dynamic modification, ADAM2\n",
    "    p.orb_method=\"ADAM2\"\n",
    "    p.alpha = 0.02\n",
    "    _, energy_data = calc_nof_orbrot(mol, p)\n",
    "    for i_ext, energy in energy_data:\n",
    "        writer.writerow([0.0, i_ext, energy])"
   ]
  }
 ],
 "metadata": {
  "kernelspec": {
   "display_name": "Python 3 (ipykernel)",
   "language": "python",
   "name": "python3"
  },
  "language_info": {
   "codemirror_mode": {
    "name": "ipython",
    "version": 3
   },
   "file_extension": ".py",
   "mimetype": "text/x-python",
   "name": "python",
   "nbconvert_exporter": "python",
   "pygments_lexer": "ipython3",
   "version": "3.12.11"
  }
 },
 "nbformat": 4,
 "nbformat_minor": 5
}

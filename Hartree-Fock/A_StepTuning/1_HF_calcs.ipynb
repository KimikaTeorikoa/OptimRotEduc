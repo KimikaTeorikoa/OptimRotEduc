{
 "cells": [
  {
   "cell_type": "markdown",
   "id": "5d778b99-0bde-4ee5-841d-79ad9249afc3",
   "metadata": {},
   "source": [
    "# Hartree-Fock: Step Size"
   ]
  },
  {
   "cell_type": "markdown",
   "id": "459b131e-f062-4b66-802c-d695a37cef74",
   "metadata": {},
   "source": [
    "Import libraries"
   ]
  },
  {
   "cell_type": "code",
   "execution_count": null,
   "id": "f9c37e00-d463-42ae-a52a-dcc879e8c4cb",
   "metadata": {},
   "outputs": [],
   "source": [
    "import csv\n",
    "import pynof\n",
    "# import energy.py library including optimization methods\n",
    "import sys\n",
    "# Define energy.py path, in our case is in myCode dir, two directories above\n",
    "sys.path.insert(1, '../../myCode/')\n",
    "# read files with optimization functions\n",
    "from energy import calc_hf_orbrot"
   ]
  },
  {
   "cell_type": "markdown",
   "id": "30a849eb-0790-40b9-bafc-11e4d7f96c1d",
   "metadata": {},
   "source": [
    "Create molecule and choose basis set"
   ]
  },
  {
   "cell_type": "code",
   "execution_count": null,
   "id": "23e89014-e588-4790-995a-99a923134d2c",
   "metadata": {},
   "outputs": [],
   "source": [
    "#Molecules definition\n",
    "\n",
    "h2o = pynof.molecule(\"\"\"\n",
    "0 1\n",
    "  O  0.0000   0.000   0.116\n",
    "  H  0.0000   0.749  -0.453\n",
    "  H  0.0000  -0.749  -0.453\n",
    "\"\"\")\n",
    "\n",
    "co2 = pynof.molecule(\"\"\"\n",
    "0 1\n",
    "C    0.0000    0.0000    0.0000   \n",
    "O    1.1000    0.0000    0.0000   \n",
    "O    -1.1000   -0.0000    0.0000 \n",
    "\"\"\")\n",
    "\n",
    "molecules = {\n",
    "    \"co2\": co2,\n",
    "    \"h2o\": h2o,\n",
    "}\n",
    "\n",
    "#############\n",
    "# USER ACTION REQUIRED\n",
    "# Select molecule and basis set\n",
    "#############\n",
    "molecule = \"co2\" # or \"co2\"\n",
    "mol = molecules[molecule]\n",
    "\n",
    "basis = \"cc-pvdz\"\n",
    "\n",
    "#Define system\n",
    "p = pynof.param(mol,basis)"
   ]
  },
  {
   "cell_type": "markdown",
   "id": "4266e9cf-9e82-4a4b-a077-4a9e65e242fe",
   "metadata": {},
   "source": [
    "Minimize Hartree-Fock for each algorithm and each alpha value (step size) and store data in csv file."
   ]
  },
  {
   "cell_type": "code",
   "execution_count": null,
   "id": "77a6a008-09bc-4e20-9641-b7a1fb5b873c",
   "metadata": {},
   "outputs": [],
   "source": [
    "p.maxit = 130\n",
    "\n",
    "# Algorithms to be tested\n",
    "algorithms = [ 'SD', 'CG', 'RMSPROP', 'ADAGRAD', 'ADAM' ]\n",
    "# earning rate values\n",
    "alpha_values = [0.001, 0.002, 0.005, 0.02, 0.04, 0.08, 0.16]\n",
    "\n",
    "#all_energy_data = {}  # Dictionary to store results for each alpha\n",
    "\n",
    "for alg in algorithms:\n",
    "    p.orb_method=alg\n",
    "    filename = f\"{molecule}_{alg}.csv\"\n",
    "    with open(filename, mode='w', newline='') as file:\n",
    "        writer = csv.writer(file)\n",
    "        writer.writerow([\"alpha\", \"iteration\", \"energy\"])  # Header\n",
    "\n",
    "        for alpha in alpha_values:\n",
    "            p.alpha = alpha\n",
    "            #Run HF calc for each case\n",
    "            _, energy_data = calc_hf_orbrot(mol, p)\n",
    "            for i_ext, energy in energy_data:\n",
    "                writer.writerow([alpha, i_ext, energy])"
   ]
  }
 ],
 "metadata": {
  "kernelspec": {
   "display_name": "newConda",
   "language": "python",
   "name": "python3"
  },
  "language_info": {
   "codemirror_mode": {
    "name": "ipython",
    "version": 3
   },
   "file_extension": ".py",
   "mimetype": "text/x-python",
   "name": "python",
   "nbconvert_exporter": "python",
   "pygments_lexer": "ipython3",
   "version": "3.13.7"
  }
 },
 "nbformat": 4,
 "nbformat_minor": 5
}

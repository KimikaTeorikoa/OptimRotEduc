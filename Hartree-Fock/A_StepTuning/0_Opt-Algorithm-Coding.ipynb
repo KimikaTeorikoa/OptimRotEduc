{
 "cells": [
  {
   "cell_type": "markdown",
   "id": "5d778b99-0bde-4ee5-841d-79ad9249afc3",
   "metadata": {},
   "source": [
    "# Hartree-Fock: Algorithm coding"
   ]
  },
  {
   "cell_type": "markdown",
   "id": "459b131e-f062-4b66-802c-d695a37cef74",
   "metadata": {},
   "source": [
    "Import libraries"
   ]
  },
  {
   "cell_type": "code",
   "execution_count": null,
   "id": "c0d7adf8",
   "metadata": {},
   "outputs": [],
   "source": [
    "import pynof\n",
    "# import energy.py library including optimization methods\n",
    "import sys\n",
    "# Define energy.py path, in our case is in myCode dir, two directories above\n",
    "sys.path.insert(1, '../../myCode/')\n",
    "# read files with optimization functions\n",
    "from energy import calc_hf_orbrot"
   ]
  },
  {
   "cell_type": "markdown",
   "id": "57ffea1b",
   "metadata": {},
   "source": [
    "The file **myCode/minimization.py** contains a function called **orbopt_sd**, which can be used for doing orbital optimization with the steepest gradient descent algorithm. You can use it like in the following example; note the line:\n",
    "\n",
    "```python\n",
    "p.orb_method=\"SD\"\n",
    "```"
   ]
  },
  {
   "cell_type": "code",
   "execution_count": null,
   "id": "f9c37e00-d463-42ae-a52a-dcc879e8c4cb",
   "metadata": {},
   "outputs": [],
   "source": [
    "#Molecules definition\n",
    "mol = pynof.molecule(\"\"\"\n",
    "0 1\n",
    "  O  0.0000   0.000   0.116\n",
    "  H  0.0000   0.749  -0.453\n",
    "  H  0.0000  -0.749  -0.453\n",
    "\"\"\")\n",
    "\n",
    "# Select molecule and basis set\n",
    "basis = \"cc-pvdz\"\n",
    "\n",
    "#Define system\n",
    "p = pynof.param(mol,basis)\n",
    "p.maxit = 130\n",
    "\n",
    "p.orb_method = \"SD\"\n",
    "\n",
    "_, energy_data = calc_hf_orbrot(mol, p)"
   ]
  },
  {
   "cell_type": "markdown",
   "id": "30a849eb-0790-40b9-bafc-11e4d7f96c1d",
   "metadata": {},
   "source": [
    "You are requested to adapt the code in *orbopt_sd* to complete the functions in **myCode/minimization.py** for the following methods:\n",
    "\n",
    "| Method  | Function Name |\n",
    "|---------|---------------|\n",
    "| CG      | orbopt_cg     |\n",
    "| ADAGRAD | orbopt_adagrad|\n",
    "| RMSPROP | orbopt_rmsprop|\n",
    "| ADAM    | orbopt_adam   |\n",
    "\n",
    "Once you have completed the functions, you should be able to use them by replacing XXXX with the corresponding method name in the example code.\n",
    "\n",
    "**Note.** Don't worry about convergence now, that will be reviewed in the next exercises."
   ]
  },
  {
   "cell_type": "code",
   "execution_count": null,
   "id": "23e89014-e588-4790-995a-99a923134d2c",
   "metadata": {},
   "outputs": [],
   "source": [
    "#Molecules definition\n",
    "mol = pynof.molecule(\"\"\"\n",
    "0 1\n",
    "  O  0.0000   0.000   0.116\n",
    "  H  0.0000   0.749  -0.453\n",
    "  H  0.0000  -0.749  -0.453\n",
    "\"\"\")\n",
    "\n",
    "# Select molecule and basis set\n",
    "basis = \"cc-pvdz\"\n",
    "\n",
    "#Define system\n",
    "p = pynof.param(mol,basis)\n",
    "p.maxit = 130\n",
    "\n",
    "p.orb_method = \"XXXX\"\n",
    "\n",
    "_, energy_data = calc_hf_orbrot(mol, p)"
   ]
  },
  {
   "cell_type": "markdown",
   "id": "05c519b0",
   "metadata": {},
   "source": [
    "**Tip.** A pynof.fchk file with the molecular orbitals is created after each calculation. You can visualize the molecular orbitals of your calculation with any viewer, such as Avogadro or IQmol."
   ]
  }
 ],
 "metadata": {
  "kernelspec": {
   "display_name": "pynof",
   "language": "python",
   "name": "python3"
  },
  "language_info": {
   "codemirror_mode": {
    "name": "ipython",
    "version": 3
   },
   "file_extension": ".py",
   "mimetype": "text/x-python",
   "name": "python",
   "nbconvert_exporter": "python",
   "pygments_lexer": "ipython3",
   "version": "3.13.7"
  }
 },
 "nbformat": 4,
 "nbformat_minor": 5
}

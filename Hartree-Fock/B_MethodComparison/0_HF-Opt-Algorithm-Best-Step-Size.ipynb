{
 "cells": [
  {
   "cell_type": "markdown",
   "id": "f649ecc8-3e71-449e-b7e6-9c4f74bfb02d",
   "metadata": {},
   "source": [
    "# Hartree-Fock: Comparison of optimization algorithms at Best Learning Rate"
   ]
  },
  {
   "cell_type": "markdown",
   "id": "90591acc-a76a-47ab-a5bf-41a6c0742dc0",
   "metadata": {},
   "source": [
    "Import libreries"
   ]
  },
  {
   "cell_type": "code",
   "execution_count": null,
   "id": "f9c37e00-d463-42ae-a52a-dcc879e8c4cb",
   "metadata": {},
   "outputs": [],
   "source": [
    "import csv\n",
    "import pynof\n",
    "import numpy as np\n",
    "from scipy.linalg import eigh\n",
    "import sys\n",
    "# Define energy.py path, in our case is in myCode dir, two directories above\n",
    "sys.path.insert(1, '../../myCode/')\n",
    "# read files with optimization functions\n",
    "from energy import *"
   ]
  },
  {
   "cell_type": "markdown",
   "id": "70b63efd-7cf0-40b8-a8d3-06d5ee48c8c4",
   "metadata": {},
   "source": [
    "Create molecule and choose basis set"
   ]
  },
  {
   "cell_type": "code",
   "execution_count": null,
   "id": "23e89014-e588-4790-995a-99a923134d2c",
   "metadata": {},
   "outputs": [],
   "source": [
    "#Molecules Definition\n",
    "#Times given in Seconds, gotten on a Linux PC (12th Gen Intel(R) Core(TM) i9-12900K)\n",
    "#with export OMP_NUM_THREADS=8\n",
    "\n",
    "# Molecules coordinates\n",
    "#time = 267 # mac 290\n",
    "bf3 = pynof.molecule(\"\"\"\n",
    "0 1\n",
    " F     4.007177     0.908823     0.000000\n",
    " F     1.724922     0.908844     0.000000\n",
    " F     2.866001    -1.067658    -0.000000\n",
    " B     2.866001     0.249991    -0.000000 \n",
    "\"\"\")\n",
    "\n",
    "#time = 910\n",
    "chcl3 = pynof.molecule(\"\"\"\n",
    "  0 1\n",
    "Cl        -0.09620       -1.67890        0.13940\n",
    "Cl        -1.40590        0.92280        0.13940\n",
    "Cl         1.50220        0.75610        0.13930\n",
    "C         -0.00010        0.00000       -0.41810\n",
    "H         -0.00010       -0.00010       -1.51110\n",
    "\"\"\")\n",
    "\n",
    "#time = 823\n",
    "aloh = pynof.molecule(\"\"\"\n",
    "0 1\n",
    "Al     0.072995     0.126285    -0.072819\n",
    " O    -0.117348     0.068538     1.623683\n",
    " O     1.640841     0.345700    -0.695473\n",
    " O    -1.181058    -0.017712    -1.213874\n",
    " H     2.443051     0.441622    -0.181373\n",
    " H    -0.892422    -0.042102     2.172874\n",
    " H    -2.121611    -0.146659    -1.103014\n",
    "\"\"\")\n",
    "\n",
    "# Dictionary to facilitate molecule selection with \n",
    "# output file name\n",
    "\n",
    "molecules = {\n",
    "    \"bf3\": bf3,\n",
    "    \"chcl3\": chcl3,\n",
    "    \"aloh\": aloh,\n",
    "}\n",
    "\n",
    "# Select molecule \n",
    "molecule = \"bf3\" # or \"aloh\" or chcl3\n",
    "mol = molecules[molecule]\n",
    "\n",
    "# Select basis set\n",
    "basis = \"cc-pvdz\"\n",
    "\n",
    "p = pynof.param(mol,basis)"
   ]
  },
  {
   "cell_type": "markdown",
   "id": "d4891a10-41be-4ee0-b410-52d34b633bea",
   "metadata": {},
   "source": [
    "We run the optimization using SD, CG, RMSProp, ADAGRAD and ADAM at the best leraning rate values for comparison. The optimization data is written into a csv files."
   ]
  },
  {
   "cell_type": "code",
   "execution_count": null,
   "id": "77a6a008-09bc-4e20-9641-b7a1fb5b873c",
   "metadata": {
    "scrolled": true
   },
   "outputs": [],
   "source": [
    "algorithms = [ 'SD', 'CG', 'RMSPROP', 'ADAGRAD', 'ADAM' ]\n",
    "all_energy_data = {}  # Dictionary to store results for each alpha\n",
    "p.alpha = 0.02\n",
    "# File name to store the data\n",
    "filename = f\"{molecule}.csv\"\n",
    "\n",
    "with open(filename, mode='w', newline='') as file:\n",
    "    writer = csv.writer(file)\n",
    "    writer.writerow([\"alg\", \"iteration\", \"energy\"])  # Header\n",
    "\n",
    "    for alg in algorithms:\n",
    "        p.orb_method=alg\n",
    "        if alg == 'SD':\n",
    "           p.alpha = 0.02\n",
    "        if alg == 'CG':\n",
    "           p.alpha = 0.02\n",
    "        elif alg == 'ADAGRAD':\n",
    "           p.alpha = 0.08\n",
    "        elif alg == 'RMSPROP':\n",
    "           p.alpha = 0.002\n",
    "        elif alg == 'ADAM':\n",
    "           p.alpha = 0.02           \n",
    "        _, energy_data = calc_hf_orbrot(mol, p)\n",
    "        for i_ext, energy in energy_data:\n",
    "            writer.writerow([alg, i_ext, energy])"
   ]
  }
 ],
 "metadata": {
  "kernelspec": {
   "display_name": "Python 3 (ipykernel)",
   "language": "python",
   "name": "python3"
  },
  "language_info": {
   "codemirror_mode": {
    "name": "ipython",
    "version": 3
   },
   "file_extension": ".py",
   "mimetype": "text/x-python",
   "name": "python",
   "nbconvert_exporter": "python",
   "pygments_lexer": "ipython3",
   "version": "3.12.11"
  }
 },
 "nbformat": 4,
 "nbformat_minor": 5
}
